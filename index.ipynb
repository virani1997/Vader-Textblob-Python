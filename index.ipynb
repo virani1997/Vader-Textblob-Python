{
 "cells": [
  {
   "attachments": {},
   "cell_type": "markdown",
   "metadata": {},
   "source": [
    "# Appendix 1.2"
   ]
  },
  {
   "attachments": {},
   "cell_type": "markdown",
   "metadata": {},
   "source": [
    "## Loading Python Libraries\n",
    "\n",
    "'Pandas' library will help in importing, exporting and manipulating the dataset. 'textblob' and 'vaderSentiment' will allow us to calculate the Textblob and Vader sentiment scores respectively. "
   ]
  },
  {
   "cell_type": "code",
   "execution_count": 1,
   "metadata": {},
   "outputs": [],
   "source": [
    "import pandas as pd\n",
    "from textblob import TextBlob\n",
    "from vaderSentiment.vaderSentiment import SentimentIntensityAnalyzer"
   ]
  },
  {
   "attachments": {},
   "cell_type": "markdown",
   "metadata": {},
   "source": [
    "## Loading Data"
   ]
  },
  {
   "cell_type": "code",
   "execution_count": 2,
   "metadata": {},
   "outputs": [],
   "source": [
    "df1 = pd.read_csv('sentiment140_clean_tweet.csv', encoding = \"latin-1\")\n",
    "df2 = pd.read_csv('usairline_clean_tweet.csv', encoding = 'latin-1')\n",
    "df3 = pd.read_csv('apple_clean_tweet.csv', encoding = 'latin-1')"
   ]
  },
  {
   "attachments": {},
   "cell_type": "markdown",
   "metadata": {},
   "source": [
    "## Inspect the pandas dataframe"
   ]
  },
  {
   "cell_type": "code",
   "execution_count": 3,
   "metadata": {},
   "outputs": [
    {
     "name": "stdout",
     "output_type": "stream",
     "text": [
      "<class 'pandas.core.frame.DataFrame'>\n",
      "RangeIndex: 1490224 entries, 0 to 1490223\n",
      "Data columns (total 3 columns):\n",
      " #   Column       Non-Null Count    Dtype \n",
      "---  ------       --------------    ----- \n",
      " 0   target       1490224 non-null  int64 \n",
      " 1   tweet        1490224 non-null  object\n",
      " 2   clean_tweet  1490224 non-null  object\n",
      "dtypes: int64(1), object(2)\n",
      "memory usage: 34.1+ MB\n",
      "<class 'pandas.core.frame.DataFrame'>\n",
      "RangeIndex: 14017 entries, 0 to 14016\n",
      "Data columns (total 3 columns):\n",
      " #   Column             Non-Null Count  Dtype \n",
      "---  ------             --------------  ----- \n",
      " 0   airline_sentiment  14017 non-null  object\n",
      " 1   text               14017 non-null  object\n",
      " 2   clean_tweet        14017 non-null  object\n",
      "dtypes: object(3)\n",
      "memory usage: 328.6+ KB\n",
      "<class 'pandas.core.frame.DataFrame'>\n",
      "RangeIndex: 3671 entries, 0 to 3670\n",
      "Data columns (total 3 columns):\n",
      " #   Column       Non-Null Count  Dtype \n",
      "---  ------       --------------  ----- \n",
      " 0   sentiment    3671 non-null   int64 \n",
      " 1   text         3671 non-null   object\n",
      " 2   clean_tweet  3671 non-null   object\n",
      "dtypes: int64(1), object(2)\n",
      "memory usage: 86.2+ KB\n"
     ]
    }
   ],
   "source": [
    "df1.info()\n",
    "df2.info()\n",
    "df3.info()"
   ]
  },
  {
   "attachments": {},
   "cell_type": "markdown",
   "metadata": {},
   "source": [
    "## Sentiment Scoring (TEXTBLOB)"
   ]
  },
  {
   "cell_type": "code",
   "execution_count": 4,
   "metadata": {},
   "outputs": [],
   "source": [
    "def sentiment_calc(text):\n",
    "    try:\n",
    "        return TextBlob(text).polarity\n",
    "    except:\n",
    "        return None\n",
    "\n",
    "df1['textblob'] = df1['clean_tweet'].apply(sentiment_calc)\n",
    "df2['textblob'] = df2['clean_tweet'].apply(sentiment_calc)\n",
    "df3['textblob'] = df3['clean_tweet'].apply(sentiment_calc)"
   ]
  },
  {
   "attachments": {},
   "cell_type": "markdown",
   "metadata": {},
   "source": [
    "## Sentiment Scoring (VADER)"
   ]
  },
  {
   "cell_type": "code",
   "execution_count": 5,
   "metadata": {},
   "outputs": [],
   "source": [
    "analyzer = SentimentIntensityAnalyzer()"
   ]
  },
  {
   "cell_type": "code",
   "execution_count": 6,
   "metadata": {},
   "outputs": [],
   "source": [
    "df1['vader'] = df1['clean_tweet'].apply(lambda tweet: analyzer.polarity_scores(tweet)).apply(lambda score_dict: score_dict['compound'])\n",
    "df2['vader'] = df2['clean_tweet'].apply(lambda tweet: analyzer.polarity_scores(tweet)).apply(lambda score_dict: score_dict['compound'])\n",
    "df3['vader'] = df3['clean_tweet'].apply(lambda tweet: analyzer.polarity_scores(tweet)).apply(lambda score_dict: score_dict['compound'])"
   ]
  },
  {
   "cell_type": "code",
   "execution_count": 7,
   "metadata": {},
   "outputs": [
    {
     "data": {
      "text/html": [
       "<div>\n",
       "<style scoped>\n",
       "    .dataframe tbody tr th:only-of-type {\n",
       "        vertical-align: middle;\n",
       "    }\n",
       "\n",
       "    .dataframe tbody tr th {\n",
       "        vertical-align: top;\n",
       "    }\n",
       "\n",
       "    .dataframe thead th {\n",
       "        text-align: right;\n",
       "    }\n",
       "</style>\n",
       "<table border=\"1\" class=\"dataframe\">\n",
       "  <thead>\n",
       "    <tr style=\"text-align: right;\">\n",
       "      <th></th>\n",
       "      <th>target</th>\n",
       "      <th>tweet</th>\n",
       "      <th>clean_tweet</th>\n",
       "      <th>textblob</th>\n",
       "      <th>vader</th>\n",
       "    </tr>\n",
       "  </thead>\n",
       "  <tbody>\n",
       "    <tr>\n",
       "      <th>0</th>\n",
       "      <td>0</td>\n",
       "      <td>@switchfoot http://twitpic.com/2y1zl - Awww, t...</td>\n",
       "      <td>- Awww, that is a bummer. You shoulda got Davi...</td>\n",
       "      <td>0.216667</td>\n",
       "      <td>-0.0173</td>\n",
       "    </tr>\n",
       "    <tr>\n",
       "      <th>1</th>\n",
       "      <td>0</td>\n",
       "      <td>is upset that he can't update his Facebook by ...</td>\n",
       "      <td>is upset that he can not update his Facebook b...</td>\n",
       "      <td>0.000000</td>\n",
       "      <td>-0.7500</td>\n",
       "    </tr>\n",
       "    <tr>\n",
       "      <th>2</th>\n",
       "      <td>0</td>\n",
       "      <td>@Kenichan I dived many times for the ball. Man...</td>\n",
       "      <td>I dived many times for the ball. Managed to sa...</td>\n",
       "      <td>0.500000</td>\n",
       "      <td>0.4939</td>\n",
       "    </tr>\n",
       "    <tr>\n",
       "      <th>3</th>\n",
       "      <td>0</td>\n",
       "      <td>my whole body feels itchy and like its on fire</td>\n",
       "      <td>my whole body feels itchy and like its on fire</td>\n",
       "      <td>0.200000</td>\n",
       "      <td>-0.2500</td>\n",
       "    </tr>\n",
       "    <tr>\n",
       "      <th>4</th>\n",
       "      <td>0</td>\n",
       "      <td>@nationwideclass no, it's not behaving at all....</td>\n",
       "      <td>no, it is not behaving at all. I am mad. why a...</td>\n",
       "      <td>-0.625000</td>\n",
       "      <td>-0.4939</td>\n",
       "    </tr>\n",
       "  </tbody>\n",
       "</table>\n",
       "</div>"
      ],
      "text/plain": [
       "   target                                              tweet  \\\n",
       "0       0  @switchfoot http://twitpic.com/2y1zl - Awww, t...   \n",
       "1       0  is upset that he can't update his Facebook by ...   \n",
       "2       0  @Kenichan I dived many times for the ball. Man...   \n",
       "3       0     my whole body feels itchy and like its on fire   \n",
       "4       0  @nationwideclass no, it's not behaving at all....   \n",
       "\n",
       "                                         clean_tweet  textblob   vader  \n",
       "0  - Awww, that is a bummer. You shoulda got Davi...  0.216667 -0.0173  \n",
       "1  is upset that he can not update his Facebook b...  0.000000 -0.7500  \n",
       "2  I dived many times for the ball. Managed to sa...  0.500000  0.4939  \n",
       "3     my whole body feels itchy and like its on fire  0.200000 -0.2500  \n",
       "4  no, it is not behaving at all. I am mad. why a... -0.625000 -0.4939  "
      ]
     },
     "execution_count": 7,
     "metadata": {},
     "output_type": "execute_result"
    }
   ],
   "source": [
    "df1.head()\n"
   ]
  },
  {
   "cell_type": "code",
   "execution_count": 8,
   "metadata": {},
   "outputs": [
    {
     "data": {
      "text/html": [
       "<div>\n",
       "<style scoped>\n",
       "    .dataframe tbody tr th:only-of-type {\n",
       "        vertical-align: middle;\n",
       "    }\n",
       "\n",
       "    .dataframe tbody tr th {\n",
       "        vertical-align: top;\n",
       "    }\n",
       "\n",
       "    .dataframe thead th {\n",
       "        text-align: right;\n",
       "    }\n",
       "</style>\n",
       "<table border=\"1\" class=\"dataframe\">\n",
       "  <thead>\n",
       "    <tr style=\"text-align: right;\">\n",
       "      <th></th>\n",
       "      <th>airline_sentiment</th>\n",
       "      <th>text</th>\n",
       "      <th>clean_tweet</th>\n",
       "      <th>textblob</th>\n",
       "      <th>vader</th>\n",
       "    </tr>\n",
       "  </thead>\n",
       "  <tbody>\n",
       "    <tr>\n",
       "      <th>0</th>\n",
       "      <td>positive</td>\n",
       "      <td>@VirginAmerica plus you've added commercials t...</td>\n",
       "      <td>plus you have added commercials to the experie...</td>\n",
       "      <td>0.000000</td>\n",
       "      <td>0.0000</td>\n",
       "    </tr>\n",
       "    <tr>\n",
       "      <th>1</th>\n",
       "      <td>neutral</td>\n",
       "      <td>@VirginAmerica I didn't today... Must mean I n...</td>\n",
       "      <td>I did not today... Must mean I need to take an...</td>\n",
       "      <td>-0.390625</td>\n",
       "      <td>0.0000</td>\n",
       "    </tr>\n",
       "    <tr>\n",
       "      <th>2</th>\n",
       "      <td>negative</td>\n",
       "      <td>@VirginAmerica it's really aggressive to blast...</td>\n",
       "      <td>it is really aggressive to blast obnoxious \"en...</td>\n",
       "      <td>0.006250</td>\n",
       "      <td>-0.2716</td>\n",
       "    </tr>\n",
       "    <tr>\n",
       "      <th>3</th>\n",
       "      <td>negative</td>\n",
       "      <td>@VirginAmerica and it's a really big bad thing...</td>\n",
       "      <td>and it is a really big bad thing about it</td>\n",
       "      <td>-0.350000</td>\n",
       "      <td>-0.5829</td>\n",
       "    </tr>\n",
       "    <tr>\n",
       "      <th>4</th>\n",
       "      <td>negative</td>\n",
       "      <td>@VirginAmerica seriously would pay $30 a fligh...</td>\n",
       "      <td>seriously would pay $ a flight for seats that ...</td>\n",
       "      <td>-0.208333</td>\n",
       "      <td>-0.5945</td>\n",
       "    </tr>\n",
       "  </tbody>\n",
       "</table>\n",
       "</div>"
      ],
      "text/plain": [
       "  airline_sentiment                                               text  \\\n",
       "0          positive  @VirginAmerica plus you've added commercials t...   \n",
       "1           neutral  @VirginAmerica I didn't today... Must mean I n...   \n",
       "2          negative  @VirginAmerica it's really aggressive to blast...   \n",
       "3          negative  @VirginAmerica and it's a really big bad thing...   \n",
       "4          negative  @VirginAmerica seriously would pay $30 a fligh...   \n",
       "\n",
       "                                         clean_tweet  textblob   vader  \n",
       "0  plus you have added commercials to the experie...  0.000000  0.0000  \n",
       "1  I did not today... Must mean I need to take an... -0.390625  0.0000  \n",
       "2  it is really aggressive to blast obnoxious \"en...  0.006250 -0.2716  \n",
       "3          and it is a really big bad thing about it -0.350000 -0.5829  \n",
       "4  seriously would pay $ a flight for seats that ... -0.208333 -0.5945  "
      ]
     },
     "execution_count": 8,
     "metadata": {},
     "output_type": "execute_result"
    }
   ],
   "source": [
    "df2.head()"
   ]
  },
  {
   "cell_type": "code",
   "execution_count": 9,
   "metadata": {},
   "outputs": [
    {
     "data": {
      "text/html": [
       "<div>\n",
       "<style scoped>\n",
       "    .dataframe tbody tr th:only-of-type {\n",
       "        vertical-align: middle;\n",
       "    }\n",
       "\n",
       "    .dataframe tbody tr th {\n",
       "        vertical-align: top;\n",
       "    }\n",
       "\n",
       "    .dataframe thead th {\n",
       "        text-align: right;\n",
       "    }\n",
       "</style>\n",
       "<table border=\"1\" class=\"dataframe\">\n",
       "  <thead>\n",
       "    <tr style=\"text-align: right;\">\n",
       "      <th></th>\n",
       "      <th>sentiment</th>\n",
       "      <th>text</th>\n",
       "      <th>clean_tweet</th>\n",
       "      <th>textblob</th>\n",
       "      <th>vader</th>\n",
       "    </tr>\n",
       "  </thead>\n",
       "  <tbody>\n",
       "    <tr>\n",
       "      <th>0</th>\n",
       "      <td>3</td>\n",
       "      <td>#AAPL:The 10 best Steve Jobs emails ever...htt...</td>\n",
       "      <td>:The best Steve Jobs emails ever...</td>\n",
       "      <td>1.00</td>\n",
       "      <td>0.6369</td>\n",
       "    </tr>\n",
       "    <tr>\n",
       "      <th>1</th>\n",
       "      <td>3</td>\n",
       "      <td>RT @JPDesloges: Why AAPL Stock Had a Mini-Flas...</td>\n",
       "      <td>RT Why AAPL Stock Had a Mini-Flash Crash Today...</td>\n",
       "      <td>0.00</td>\n",
       "      <td>-0.4019</td>\n",
       "    </tr>\n",
       "    <tr>\n",
       "      <th>2</th>\n",
       "      <td>3</td>\n",
       "      <td>My cat only chews @apple cords. Such an #Apple...</td>\n",
       "      <td>My cat only chews cords. Such an .</td>\n",
       "      <td>0.00</td>\n",
       "      <td>0.0000</td>\n",
       "    </tr>\n",
       "    <tr>\n",
       "      <th>3</th>\n",
       "      <td>3</td>\n",
       "      <td>I agree with @jimcramer that the #IndividualIn...</td>\n",
       "      <td>I agree with that the should own not trade , i...</td>\n",
       "      <td>0.65</td>\n",
       "      <td>0.6597</td>\n",
       "    </tr>\n",
       "    <tr>\n",
       "      <th>4</th>\n",
       "      <td>3</td>\n",
       "      <td>Nobody expects the Spanish Inquisition #AAPL</td>\n",
       "      <td>Nobody expects the Spanish Inquisition</td>\n",
       "      <td>0.00</td>\n",
       "      <td>-0.2960</td>\n",
       "    </tr>\n",
       "  </tbody>\n",
       "</table>\n",
       "</div>"
      ],
      "text/plain": [
       "   sentiment                                               text  \\\n",
       "0          3  #AAPL:The 10 best Steve Jobs emails ever...htt...   \n",
       "1          3  RT @JPDesloges: Why AAPL Stock Had a Mini-Flas...   \n",
       "2          3  My cat only chews @apple cords. Such an #Apple...   \n",
       "3          3  I agree with @jimcramer that the #IndividualIn...   \n",
       "4          3       Nobody expects the Spanish Inquisition #AAPL   \n",
       "\n",
       "                                         clean_tweet  textblob   vader  \n",
       "0                :The best Steve Jobs emails ever...      1.00  0.6369  \n",
       "1  RT Why AAPL Stock Had a Mini-Flash Crash Today...      0.00 -0.4019  \n",
       "2                 My cat only chews cords. Such an .      0.00  0.0000  \n",
       "3  I agree with that the should own not trade , i...      0.65  0.6597  \n",
       "4             Nobody expects the Spanish Inquisition      0.00 -0.2960  "
      ]
     },
     "execution_count": 9,
     "metadata": {},
     "output_type": "execute_result"
    }
   ],
   "source": [
    "df3.head()"
   ]
  },
  {
   "cell_type": "code",
   "execution_count": 10,
   "metadata": {},
   "outputs": [],
   "source": [
    "df1.to_csv(\"sentiment140_scores.csv\", index=False)\n",
    "df2.to_csv(\"usairline_scores.csv\", index=False)\n",
    "df3.to_csv(\"apple_scores.csv\", index = False)"
   ]
  },
  {
   "cell_type": "markdown",
   "metadata": {},
   "source": [
    "# Testing the existence of Vader and Textblob sentiment scores on the machine learning text classification model's peformance"
   ]
  },
  {
   "cell_type": "markdown",
   "metadata": {},
   "source": [
    "# Without Any Sentiment Scores"
   ]
  },
  {
   "cell_type": "code",
   "execution_count": 11,
   "metadata": {},
   "outputs": [],
   "source": [
    "import pandas as pd\n",
    "import numpy as np\n",
    "df = pd.read_csv('usairline_ml_text.csv')\n",
    "np.random.seed(100)"
   ]
  },
  {
   "cell_type": "code",
   "execution_count": 12,
   "metadata": {},
   "outputs": [
    {
     "data": {
      "text/html": [
       "<div>\n",
       "<style scoped>\n",
       "    .dataframe tbody tr th:only-of-type {\n",
       "        vertical-align: middle;\n",
       "    }\n",
       "\n",
       "    .dataframe tbody tr th {\n",
       "        vertical-align: top;\n",
       "    }\n",
       "\n",
       "    .dataframe thead th {\n",
       "        text-align: right;\n",
       "    }\n",
       "</style>\n",
       "<table border=\"1\" class=\"dataframe\">\n",
       "  <thead>\n",
       "    <tr style=\"text-align: right;\">\n",
       "      <th></th>\n",
       "      <th>airline_sentiment</th>\n",
       "      <th>clean_tweet</th>\n",
       "    </tr>\n",
       "  </thead>\n",
       "  <tbody>\n",
       "    <tr>\n",
       "      <th>0</th>\n",
       "      <td>positive</td>\n",
       "      <td>plus you have added commercials to the experie...</td>\n",
       "    </tr>\n",
       "    <tr>\n",
       "      <th>1</th>\n",
       "      <td>neutral</td>\n",
       "      <td>I did not today... Must mean I need to take an...</td>\n",
       "    </tr>\n",
       "    <tr>\n",
       "      <th>2</th>\n",
       "      <td>negative</td>\n",
       "      <td>it is really aggressive to blast obnoxious \"en...</td>\n",
       "    </tr>\n",
       "    <tr>\n",
       "      <th>3</th>\n",
       "      <td>negative</td>\n",
       "      <td>and it is a really big bad thing about it</td>\n",
       "    </tr>\n",
       "    <tr>\n",
       "      <th>4</th>\n",
       "      <td>negative</td>\n",
       "      <td>seriously would pay $ a flight for seats that ...</td>\n",
       "    </tr>\n",
       "  </tbody>\n",
       "</table>\n",
       "</div>"
      ],
      "text/plain": [
       "  airline_sentiment                                        clean_tweet\n",
       "0          positive  plus you have added commercials to the experie...\n",
       "1           neutral  I did not today... Must mean I need to take an...\n",
       "2          negative  it is really aggressive to blast obnoxious \"en...\n",
       "3          negative          and it is a really big bad thing about it\n",
       "4          negative  seriously would pay $ a flight for seats that ..."
      ]
     },
     "execution_count": 12,
     "metadata": {},
     "output_type": "execute_result"
    }
   ],
   "source": [
    "df.head()"
   ]
  },
  {
   "cell_type": "code",
   "execution_count": 13,
   "metadata": {},
   "outputs": [],
   "source": [
    "from sklearn.model_selection import train_test_split\n",
    "X_train, X_test, y_train, y_test = train_test_split(df['clean_tweet'], df['airline_sentiment'], test_size=0.2, random_state=42)"
   ]
  },
  {
   "cell_type": "code",
   "execution_count": 14,
   "metadata": {},
   "outputs": [
    {
     "name": "stderr",
     "output_type": "stream",
     "text": [
      "[nltk_data] Downloading package stopwords to\n",
      "[nltk_data]     C:\\Users\\Salman\\AppData\\Roaming\\nltk_data...\n",
      "[nltk_data]   Package stopwords is already up-to-date!\n"
     ]
    }
   ],
   "source": [
    "import string\n",
    "import nltk\n",
    "from nltk.corpus import stopwords\n",
    "nltk.download('stopwords')\n",
    "\n",
    "stopwords = set(stopwords.words('english'))\n",
    "def preprocess(text):\n",
    "    text = text.lower()\n",
    "    text = ''.join([word for word in text if word not in string.punctuation])\n",
    "    text = ' '.join([word for word in text.split() if word not in stopwords])\n",
    "    return text\n",
    "\n",
    "X_train = X_train.apply(preprocess)\n",
    "X_test = X_test.apply(preprocess)"
   ]
  },
  {
   "cell_type": "code",
   "execution_count": 15,
   "metadata": {},
   "outputs": [],
   "source": [
    "from sklearn.feature_extraction.text import CountVectorizer, TfidfVectorizer\n",
    "\n",
    "vectorizer = TfidfVectorizer()\n",
    "X_train = vectorizer.fit_transform(X_train)\n",
    "X_test = vectorizer.transform(X_test)"
   ]
  },
  {
   "cell_type": "code",
   "execution_count": 16,
   "metadata": {},
   "outputs": [
    {
     "data": {
      "text/plain": [
       "LogisticRegression(max_iter=1000)"
      ]
     },
     "execution_count": 16,
     "metadata": {},
     "output_type": "execute_result"
    }
   ],
   "source": [
    "from sklearn.linear_model import LogisticRegression\n",
    "\n",
    "model = LogisticRegression(max_iter=1000)\n",
    "model.fit(X_train, y_train)"
   ]
  },
  {
   "cell_type": "code",
   "execution_count": 17,
   "metadata": {},
   "outputs": [
    {
     "name": "stdout",
     "output_type": "stream",
     "text": [
      "Accuracy: 0.7703281027104137\n",
      "Precision: 0.7610065854065596\n",
      "Recall: 0.7703281027104137\n",
      "F1 Score: 0.7509463972878909\n"
     ]
    }
   ],
   "source": [
    "from sklearn.metrics import accuracy_score, precision_score, recall_score, f1_score\n",
    "\n",
    "y_pred = model.predict(X_test)\n",
    "print('Accuracy:', accuracy_score(y_test, y_pred))\n",
    "print('Precision:', precision_score(y_test, y_pred, average='weighted'))\n",
    "print('Recall:', recall_score(y_test, y_pred, average='weighted'))\n",
    "print('F1 Score:', f1_score(y_test, y_pred, average='weighted'))"
   ]
  },
  {
   "cell_type": "markdown",
   "metadata": {},
   "source": [
    "# With Textblob Scores"
   ]
  },
  {
   "cell_type": "code",
   "execution_count": 18,
   "metadata": {},
   "outputs": [
    {
     "data": {
      "text/html": [
       "<div>\n",
       "<style scoped>\n",
       "    .dataframe tbody tr th:only-of-type {\n",
       "        vertical-align: middle;\n",
       "    }\n",
       "\n",
       "    .dataframe tbody tr th {\n",
       "        vertical-align: top;\n",
       "    }\n",
       "\n",
       "    .dataframe thead th {\n",
       "        text-align: right;\n",
       "    }\n",
       "</style>\n",
       "<table border=\"1\" class=\"dataframe\">\n",
       "  <thead>\n",
       "    <tr style=\"text-align: right;\">\n",
       "      <th></th>\n",
       "      <th>airline_sentiment</th>\n",
       "      <th>clean_tweet</th>\n",
       "      <th>textblob</th>\n",
       "    </tr>\n",
       "  </thead>\n",
       "  <tbody>\n",
       "    <tr>\n",
       "      <th>0</th>\n",
       "      <td>positive</td>\n",
       "      <td>plus you have added commercials to the experie...</td>\n",
       "      <td>0.000000</td>\n",
       "    </tr>\n",
       "    <tr>\n",
       "      <th>1</th>\n",
       "      <td>neutral</td>\n",
       "      <td>I did not today... Must mean I need to take an...</td>\n",
       "      <td>-0.390625</td>\n",
       "    </tr>\n",
       "    <tr>\n",
       "      <th>2</th>\n",
       "      <td>negative</td>\n",
       "      <td>it is really aggressive to blast obnoxious \"en...</td>\n",
       "      <td>0.006250</td>\n",
       "    </tr>\n",
       "    <tr>\n",
       "      <th>3</th>\n",
       "      <td>negative</td>\n",
       "      <td>and it is a really big bad thing about it</td>\n",
       "      <td>-0.350000</td>\n",
       "    </tr>\n",
       "    <tr>\n",
       "      <th>4</th>\n",
       "      <td>negative</td>\n",
       "      <td>seriously would pay $ a flight for seats that ...</td>\n",
       "      <td>-0.208333</td>\n",
       "    </tr>\n",
       "  </tbody>\n",
       "</table>\n",
       "</div>"
      ],
      "text/plain": [
       "  airline_sentiment                                        clean_tweet  \\\n",
       "0          positive  plus you have added commercials to the experie...   \n",
       "1           neutral  I did not today... Must mean I need to take an...   \n",
       "2          negative  it is really aggressive to blast obnoxious \"en...   \n",
       "3          negative          and it is a really big bad thing about it   \n",
       "4          negative  seriously would pay $ a flight for seats that ...   \n",
       "\n",
       "   textblob  \n",
       "0  0.000000  \n",
       "1 -0.390625  \n",
       "2  0.006250  \n",
       "3 -0.350000  \n",
       "4 -0.208333  "
      ]
     },
     "execution_count": 18,
     "metadata": {},
     "output_type": "execute_result"
    }
   ],
   "source": [
    "import pandas as pd\n",
    "\n",
    "# load the dataset with the new variable\n",
    "df2 = pd.read_csv('usairline_ml_text_textblob.csv')\n",
    "df2.head()"
   ]
  },
  {
   "cell_type": "code",
   "execution_count": 19,
   "metadata": {},
   "outputs": [
    {
     "name": "stderr",
     "output_type": "stream",
     "text": [
      "[nltk_data] Downloading package stopwords to\n",
      "[nltk_data]     C:\\Users\\Salman\\AppData\\Roaming\\nltk_data...\n",
      "[nltk_data]   Package stopwords is already up-to-date!\n"
     ]
    },
    {
     "name": "stdout",
     "output_type": "stream",
     "text": [
      "Accuracy: 0.7781740370898717\n",
      "Precision: 0.7680282985788505\n",
      "Recall: 0.7781740370898717\n",
      "F1 Score: 0.7614631813035634\n"
     ]
    }
   ],
   "source": [
    "# split the dataset into training and testing sets\n",
    "from sklearn.model_selection import train_test_split\n",
    "X_train, X_test, y_train, y_test = train_test_split(df2[['clean_tweet', 'textblob']], df2['airline_sentiment'], test_size=0.2, random_state=42)\n",
    "\n",
    "# preprocess the text input\n",
    "import string\n",
    "import nltk\n",
    "from nltk.corpus import stopwords\n",
    "nltk.download('stopwords')\n",
    "\n",
    "stopwords = set(stopwords.words('english'))\n",
    "def preprocess(text):\n",
    "    text = text.lower()\n",
    "    text = ''.join([word for word in text if word not in string.punctuation])\n",
    "    text = ' '.join([word for word in text.split() if word not in stopwords])\n",
    "    return text\n",
    "\n",
    "X_train['clean_tweet'] = X_train['clean_tweet'].apply(preprocess)\n",
    "X_test['clean_tweet'] = X_test['clean_tweet'].apply(preprocess)\n",
    "\n",
    "# vectorize the text input\n",
    "from sklearn.feature_extraction.text import CountVectorizer, TfidfVectorizer\n",
    "\n",
    "vectorizer = TfidfVectorizer()\n",
    "X_train_text = vectorizer.fit_transform(X_train['clean_tweet'])\n",
    "X_test_text = vectorizer.transform(X_test['clean_tweet'])\n",
    "\n",
    "# combine the vectorized text input with the numeric input\n",
    "import scipy.sparse as sp\n",
    "\n",
    "X_train_num = sp.csr_matrix(X_train['textblob'].values.reshape(-1, 1))\n",
    "X_test_num = sp.csr_matrix(X_test['textblob'].values.reshape(-1, 1))\n",
    "\n",
    "X_train = sp.hstack([X_train_text, X_train_num])\n",
    "X_test = sp.hstack([X_test_text, X_test_num])\n",
    "\n",
    "# train the logistic regression model\n",
    "from sklearn.linear_model import LogisticRegression\n",
    "\n",
    "model = LogisticRegression(max_iter=1000)\n",
    "model.fit(X_train, y_train)\n",
    "\n",
    "# evaluate the model\n",
    "from sklearn.metrics import accuracy_score, precision_score, recall_score, f1_score\n",
    "\n",
    "y_pred = model.predict(X_test)\n",
    "print('Accuracy:', accuracy_score(y_test, y_pred))\n",
    "print('Precision:', precision_score(y_test, y_pred, average='weighted'))\n",
    "print('Recall:', recall_score(y_test, y_pred, average='weighted'))\n",
    "print('F1 Score:', f1_score(y_test, y_pred, average='weighted'))"
   ]
  },
  {
   "cell_type": "markdown",
   "metadata": {},
   "source": [
    "# With Vader Scores"
   ]
  },
  {
   "cell_type": "code",
   "execution_count": 20,
   "metadata": {},
   "outputs": [
    {
     "data": {
      "text/html": [
       "<div>\n",
       "<style scoped>\n",
       "    .dataframe tbody tr th:only-of-type {\n",
       "        vertical-align: middle;\n",
       "    }\n",
       "\n",
       "    .dataframe tbody tr th {\n",
       "        vertical-align: top;\n",
       "    }\n",
       "\n",
       "    .dataframe thead th {\n",
       "        text-align: right;\n",
       "    }\n",
       "</style>\n",
       "<table border=\"1\" class=\"dataframe\">\n",
       "  <thead>\n",
       "    <tr style=\"text-align: right;\">\n",
       "      <th></th>\n",
       "      <th>airline_sentiment</th>\n",
       "      <th>clean_tweet</th>\n",
       "      <th>vader</th>\n",
       "    </tr>\n",
       "  </thead>\n",
       "  <tbody>\n",
       "    <tr>\n",
       "      <th>0</th>\n",
       "      <td>positive</td>\n",
       "      <td>plus you have added commercials to the experie...</td>\n",
       "      <td>0.0000</td>\n",
       "    </tr>\n",
       "    <tr>\n",
       "      <th>1</th>\n",
       "      <td>neutral</td>\n",
       "      <td>I did not today... Must mean I need to take an...</td>\n",
       "      <td>0.0000</td>\n",
       "    </tr>\n",
       "    <tr>\n",
       "      <th>2</th>\n",
       "      <td>negative</td>\n",
       "      <td>it is really aggressive to blast obnoxious \"en...</td>\n",
       "      <td>-0.2716</td>\n",
       "    </tr>\n",
       "    <tr>\n",
       "      <th>3</th>\n",
       "      <td>negative</td>\n",
       "      <td>and it is a really big bad thing about it</td>\n",
       "      <td>-0.5829</td>\n",
       "    </tr>\n",
       "    <tr>\n",
       "      <th>4</th>\n",
       "      <td>negative</td>\n",
       "      <td>seriously would pay $ a flight for seats that ...</td>\n",
       "      <td>-0.5945</td>\n",
       "    </tr>\n",
       "  </tbody>\n",
       "</table>\n",
       "</div>"
      ],
      "text/plain": [
       "  airline_sentiment                                        clean_tweet   vader\n",
       "0          positive  plus you have added commercials to the experie...  0.0000\n",
       "1           neutral  I did not today... Must mean I need to take an...  0.0000\n",
       "2          negative  it is really aggressive to blast obnoxious \"en... -0.2716\n",
       "3          negative          and it is a really big bad thing about it -0.5829\n",
       "4          negative  seriously would pay $ a flight for seats that ... -0.5945"
      ]
     },
     "execution_count": 20,
     "metadata": {},
     "output_type": "execute_result"
    }
   ],
   "source": [
    "import pandas as pd\n",
    "\n",
    "# load the dataset with the new variable\n",
    "df3 = pd.read_csv('usairline_ml_text_vader.csv')\n",
    "df3.head()"
   ]
  },
  {
   "cell_type": "code",
   "execution_count": 21,
   "metadata": {},
   "outputs": [
    {
     "name": "stderr",
     "output_type": "stream",
     "text": [
      "[nltk_data] Downloading package stopwords to\n",
      "[nltk_data]     C:\\Users\\Salman\\AppData\\Roaming\\nltk_data...\n",
      "[nltk_data]   Package stopwords is already up-to-date!\n"
     ]
    },
    {
     "name": "stdout",
     "output_type": "stream",
     "text": [
      "Accuracy: 0.7885164051355207\n",
      "Precision: 0.7777831580798289\n",
      "Recall: 0.7885164051355207\n",
      "F1 Score: 0.7741147898432414\n"
     ]
    }
   ],
   "source": [
    "# split the dataset into training and testing sets\n",
    "from sklearn.model_selection import train_test_split\n",
    "X_train, X_test, y_train, y_test = train_test_split(df3[['clean_tweet', 'vader']], df3['airline_sentiment'], test_size=0.2, random_state=42)\n",
    "\n",
    "# preprocess the text input\n",
    "import string\n",
    "import nltk\n",
    "from nltk.corpus import stopwords\n",
    "nltk.download('stopwords')\n",
    "\n",
    "stopwords = set(stopwords.words('english'))\n",
    "def preprocess(text):\n",
    "    text = text.lower()\n",
    "    text = ''.join([word for word in text if word not in string.punctuation])\n",
    "    text = ' '.join([word for word in text.split() if word not in stopwords])\n",
    "    return text\n",
    "\n",
    "X_train['clean_tweet'] = X_train['clean_tweet'].apply(preprocess)\n",
    "X_test['clean_tweet'] = X_test['clean_tweet'].apply(preprocess)\n",
    "\n",
    "# vectorize the text input\n",
    "from sklearn.feature_extraction.text import CountVectorizer, TfidfVectorizer\n",
    "\n",
    "vectorizer = TfidfVectorizer()\n",
    "X_train_text = vectorizer.fit_transform(X_train['clean_tweet'])\n",
    "X_test_text = vectorizer.transform(X_test['clean_tweet'])\n",
    "\n",
    "# combine the vectorized text input with the numeric input\n",
    "import scipy.sparse as sp\n",
    "\n",
    "X_train_num = sp.csr_matrix(X_train['vader'].values.reshape(-1, 1))\n",
    "X_test_num = sp.csr_matrix(X_test['vader'].values.reshape(-1, 1))\n",
    "\n",
    "X_train = sp.hstack([X_train_text, X_train_num])\n",
    "X_test = sp.hstack([X_test_text, X_test_num])\n",
    "\n",
    "# train the logistic regression model\n",
    "from sklearn.linear_model import LogisticRegression\n",
    "\n",
    "model = LogisticRegression(max_iter=1000)\n",
    "model.fit(X_train, y_train)\n",
    "\n",
    "# evaluate the model\n",
    "from sklearn.metrics import accuracy_score, precision_score, recall_score, f1_score\n",
    "\n",
    "y_pred = model.predict(X_test)\n",
    "print('Accuracy:', accuracy_score(y_test, y_pred))\n",
    "print('Precision:', precision_score(y_test, y_pred, average='weighted'))\n",
    "print('Recall:', recall_score(y_test, y_pred, average='weighted'))\n",
    "print('F1 Score:', f1_score(y_test, y_pred, average='weighted'))"
   ]
  },
  {
   "cell_type": "markdown",
   "metadata": {},
   "source": [
    "# With Vader + Textblob"
   ]
  },
  {
   "cell_type": "code",
   "execution_count": 22,
   "metadata": {},
   "outputs": [
    {
     "name": "stderr",
     "output_type": "stream",
     "text": [
      "[nltk_data] Downloading package stopwords to\n",
      "[nltk_data]     C:\\Users\\Salman\\AppData\\Roaming\\nltk_data...\n",
      "[nltk_data]   Package stopwords is already up-to-date!\n"
     ]
    },
    {
     "data": {
      "text/html": [
       "<div>\n",
       "<style scoped>\n",
       "    .dataframe tbody tr th:only-of-type {\n",
       "        vertical-align: middle;\n",
       "    }\n",
       "\n",
       "    .dataframe tbody tr th {\n",
       "        vertical-align: top;\n",
       "    }\n",
       "\n",
       "    .dataframe thead th {\n",
       "        text-align: right;\n",
       "    }\n",
       "</style>\n",
       "<table border=\"1\" class=\"dataframe\">\n",
       "  <thead>\n",
       "    <tr style=\"text-align: right;\">\n",
       "      <th></th>\n",
       "      <th>airline_sentiment</th>\n",
       "      <th>clean_tweet</th>\n",
       "      <th>vader</th>\n",
       "      <th>textblob</th>\n",
       "    </tr>\n",
       "  </thead>\n",
       "  <tbody>\n",
       "    <tr>\n",
       "      <th>0</th>\n",
       "      <td>positive</td>\n",
       "      <td>plus you have added commercials to the experie...</td>\n",
       "      <td>0.0000</td>\n",
       "      <td>0.000000</td>\n",
       "    </tr>\n",
       "    <tr>\n",
       "      <th>1</th>\n",
       "      <td>neutral</td>\n",
       "      <td>I did not today... Must mean I need to take an...</td>\n",
       "      <td>0.0000</td>\n",
       "      <td>-0.390625</td>\n",
       "    </tr>\n",
       "    <tr>\n",
       "      <th>2</th>\n",
       "      <td>negative</td>\n",
       "      <td>it is really aggressive to blast obnoxious \"en...</td>\n",
       "      <td>-0.2716</td>\n",
       "      <td>0.006250</td>\n",
       "    </tr>\n",
       "    <tr>\n",
       "      <th>3</th>\n",
       "      <td>negative</td>\n",
       "      <td>and it is a really big bad thing about it</td>\n",
       "      <td>-0.5829</td>\n",
       "      <td>-0.350000</td>\n",
       "    </tr>\n",
       "    <tr>\n",
       "      <th>4</th>\n",
       "      <td>negative</td>\n",
       "      <td>seriously would pay $ a flight for seats that ...</td>\n",
       "      <td>-0.5945</td>\n",
       "      <td>-0.208333</td>\n",
       "    </tr>\n",
       "  </tbody>\n",
       "</table>\n",
       "</div>"
      ],
      "text/plain": [
       "  airline_sentiment                                        clean_tweet  \\\n",
       "0          positive  plus you have added commercials to the experie...   \n",
       "1           neutral  I did not today... Must mean I need to take an...   \n",
       "2          negative  it is really aggressive to blast obnoxious \"en...   \n",
       "3          negative          and it is a really big bad thing about it   \n",
       "4          negative  seriously would pay $ a flight for seats that ...   \n",
       "\n",
       "    vader  textblob  \n",
       "0  0.0000  0.000000  \n",
       "1  0.0000 -0.390625  \n",
       "2 -0.2716  0.006250  \n",
       "3 -0.5829 -0.350000  \n",
       "4 -0.5945 -0.208333  "
      ]
     },
     "execution_count": 22,
     "metadata": {},
     "output_type": "execute_result"
    }
   ],
   "source": [
    "import pandas as pd\n",
    "from sklearn.model_selection import train_test_split\n",
    "from sklearn.feature_extraction.text import TfidfVectorizer\n",
    "from sklearn.linear_model import LogisticRegression\n",
    "from sklearn.metrics import accuracy_score, precision_score, recall_score, f1_score\n",
    "from scipy import sparse as sp\n",
    "import string\n",
    "import nltk\n",
    "from nltk.corpus import stopwords\n",
    "nltk.download('stopwords')\n",
    "\n",
    "# load the data\n",
    "df4 = pd.read_csv('usairline_ml_text_vader_textblob.csv')\n",
    "df4.head()"
   ]
  },
  {
   "cell_type": "code",
   "execution_count": 23,
   "metadata": {},
   "outputs": [
    {
     "name": "stdout",
     "output_type": "stream",
     "text": [
      "Accuracy: 0.7892296718972895\n",
      "Precision: 0.777975159189456\n",
      "Recall: 0.7892296718972895\n",
      "F1 Score: 0.7750863723452115\n"
     ]
    }
   ],
   "source": [
    "# split the data into train and test sets\n",
    "X_train_text, X_test_text, y_train, y_test = train_test_split(df4['clean_tweet'], df4['airline_sentiment'], test_size=0.2, random_state=42)\n",
    "X_train_num = sp.csr_matrix(df4.loc[X_train_text.index, ['textblob', 'vader']].values)\n",
    "X_test_num = sp.csr_matrix(df4.loc[X_test_text.index, ['textblob', 'vader']].values)\n",
    "\n",
    "# preprocess the text data\n",
    "stopwords = set(stopwords.words('english'))\n",
    "def preprocess(text):\n",
    "    text = text.lower()\n",
    "    text = ''.join([word for word in text if word not in string.punctuation])\n",
    "    text = ' '.join([word for word in text.split() if word not in stopwords])\n",
    "    return text\n",
    "\n",
    "X_train_text = X_train_text.apply(preprocess)\n",
    "X_test_text = X_test_text.apply(preprocess)\n",
    "\n",
    "# create tf-idf vectorizer\n",
    "vectorizer = TfidfVectorizer()\n",
    "X_train_text = vectorizer.fit_transform(X_train_text)\n",
    "X_test_text = vectorizer.transform(X_test_text)\n",
    "\n",
    "# combine the text and numeric features\n",
    "X_train = sp.hstack([X_train_text, X_train_num])\n",
    "X_test = sp.hstack([X_test_text, X_test_num])\n",
    "\n",
    "# train the logistic regression model\n",
    "model = LogisticRegression(max_iter=1000)\n",
    "model.fit(X_train, y_train)\n",
    "\n",
    "# make predictions on the test data and evaluate the performance\n",
    "y_pred = model.predict(X_test)\n",
    "print('Accuracy:', accuracy_score(y_test, y_pred))\n",
    "print('Precision:', precision_score(y_test, y_pred, average='weighted'))\n",
    "print('Recall:', recall_score(y_test, y_pred, average='weighted'))\n",
    "print('F1 Score:', f1_score(y_test, y_pred, average='weighted'))\n"
   ]
  }
 ],
 "metadata": {
  "kernelspec": {
   "display_name": "Python 3.10.5 64-bit",
   "language": "python",
   "name": "python3"
  },
  "language_info": {
   "codemirror_mode": {
    "name": "ipython",
    "version": 3
   },
   "file_extension": ".py",
   "mimetype": "text/x-python",
   "name": "python",
   "nbconvert_exporter": "python",
   "pygments_lexer": "ipython3",
   "version": "3.10.5"
  },
  "orig_nbformat": 4,
  "vscode": {
   "interpreter": {
    "hash": "055e9e061a52f22d77e406246cc5dc48f3ac8d21e5086ce336d09b72d3ac8411"
   }
  }
 },
 "nbformat": 4,
 "nbformat_minor": 2
}
